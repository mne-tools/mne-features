{
  "cells": [
    {
      "cell_type": "code",
      "execution_count": null,
      "metadata": {
        "collapsed": false
      },
      "outputs": [],
      "source": [
        "%matplotlib inline"
      ]
    },
    {
      "cell_type": "markdown",
      "metadata": {},
      "source": [
        "\n# Extract features from MEG time series for classification\n\nThe code for this example is based on the method proposed in:\n\nJean-Baptiste SCHIRATTI, Jean-Eudes LE DOUGET, Michel LE VAN QUYEN,\nSlim ESSID, Alexandre GRAMFORT,\n\"An ensemble learning approach to detect epileptic seizures from long\nintracranial EEG recordings\"\nProc. IEEE ICASSP Conf. 2018\n\n<div class=\"alert alert-info\"><h4>Note</h4><p>This example is for illustration purposes, as other methods\n    may lead to better performance on such a dataset (classification\n    of auditory vs. visual stimuli).</p></div>\n"
      ]
    },
    {
      "cell_type": "code",
      "execution_count": null,
      "metadata": {
        "collapsed": false
      },
      "outputs": [],
      "source": [
        "# Author: Jean-Baptiste Schiratti <jean.baptiste.schiratti@gmail.com>\n#         Alexandre Gramfort <alexandre.gramfort@inria.fr>\n# License: BSD 3 clause\n\nimport mne\nimport numpy as np\nfrom mne.datasets import sample\nfrom sklearn.linear_model import LogisticRegression\nfrom sklearn.model_selection import cross_val_score, KFold\nfrom sklearn.pipeline import Pipeline\nfrom sklearn.preprocessing import StandardScaler\n\nfrom mne_features.feature_extraction import extract_features\n\nprint(__doc__)"
      ]
    },
    {
      "cell_type": "markdown",
      "metadata": {},
      "source": [
        "Let us import the data using MNE-Python and epoch it:\n\n"
      ]
    },
    {
      "cell_type": "code",
      "execution_count": null,
      "metadata": {
        "collapsed": false
      },
      "outputs": [],
      "source": [
        "data_path = sample.data_path()\nraw_fname = data_path + '/MEG/sample/sample_audvis_filt-0-40_raw.fif'\nevent_fname = data_path + '/MEG/sample/sample_audvis_filt-0-40_raw-eve.fif'\ntmin, tmax = -0.2, 0.5\nevent_id = dict(aud_l=1, vis_l=3)\n\n# Setup for reading the raw data\nraw = mne.io.read_raw_fif(raw_fname, preload=True)\nraw.filter(.5, None, fir_design='firwin')\nevents = mne.read_events(event_fname)\npicks = mne.pick_types(raw.info, meg='grad', eeg=False)\n\n# Read epochs\nepochs = mne.Epochs(raw, events, event_id, tmin, tmax, picks=picks, proj=True,\n                    baseline=None, preload=True)\nlabels = epochs.events[:, -1]\n\n# get MEG and EEG data\ndata = epochs.get_data()"
      ]
    },
    {
      "cell_type": "markdown",
      "metadata": {},
      "source": [
        "Prepare for the classification task:\n\n"
      ]
    },
    {
      "cell_type": "code",
      "execution_count": null,
      "metadata": {
        "collapsed": false
      },
      "outputs": [],
      "source": [
        "pipe = Pipeline([('scaler', StandardScaler()),\n                 ('lr', LogisticRegression(random_state=42, solver='lbfgs'))])\ny = labels"
      ]
    },
    {
      "cell_type": "markdown",
      "metadata": {},
      "source": [
        "Classification using features (mean, peak-to-peak amplitude,\nstandard deviation). See `api_documentation` for full list of supported\nfeatures.\n\n"
      ]
    },
    {
      "cell_type": "code",
      "execution_count": null,
      "metadata": {
        "collapsed": false
      },
      "outputs": [],
      "source": [
        "selected_funcs = {'mean', 'ptp_amp', 'std'}\nX_new = extract_features(data, raw.info['sfreq'], selected_funcs)\nkf = KFold(n_splits=3, shuffle=True, random_state=42)\nscores = cross_val_score(pipe, X_new, y, scoring='accuracy', cv=kf)"
      ]
    },
    {
      "cell_type": "markdown",
      "metadata": {},
      "source": [
        "Print the cross-validation score:\n\n"
      ]
    },
    {
      "cell_type": "code",
      "execution_count": null,
      "metadata": {
        "collapsed": false
      },
      "outputs": [],
      "source": [
        "print('Cross-validation accuracy score = %1.3f (+/- %1.5f)' % (np.mean(scores),\n                                                               np.std(scores)))"
      ]
    }
  ],
  "metadata": {
    "kernelspec": {
      "display_name": "Python 3",
      "language": "python",
      "name": "python3"
    },
    "language_info": {
      "codemirror_mode": {
        "name": "ipython",
        "version": 3
      },
      "file_extension": ".py",
      "mimetype": "text/x-python",
      "name": "python",
      "nbconvert_exporter": "python",
      "pygments_lexer": "ipython3",
      "version": "3.8.6"
    }
  },
  "nbformat": 4,
  "nbformat_minor": 0
}