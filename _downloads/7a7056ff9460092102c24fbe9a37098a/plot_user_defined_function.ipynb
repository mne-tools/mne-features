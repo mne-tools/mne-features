{
  "cells": [
    {
      "cell_type": "code",
      "execution_count": null,
      "metadata": {
        "collapsed": false
      },
      "outputs": [],
      "source": [
        "%matplotlib inline"
      ]
    },
    {
      "cell_type": "markdown",
      "metadata": {},
      "source": [
        "\n# Extract features using user-defined feature functions.\n\nThe example shows how user-defined feature functions can be used in\nMNE-Features along with built-in feature functions.\n\nThe code for this example is based on the method proposed in:\n\nJean-Baptiste SCHIRATTI, Jean-Eudes LE DOUGET, Michel LE VAN QUYEN,\nSlim ESSID, Alexandre GRAMFORT,\n\"An ensemble learning approach to detect epileptic seizures from long\nintracranial EEG recordings\"\nProc. IEEE ICASSP Conf. 2018\n\n<div class=\"alert alert-info\"><h4>Note</h4><p>This example is for illustration purposes, as other methods\n    may lead to better performance on such a dataset (classification\n    of auditory vs. visual stimuli).</p></div>\n"
      ]
    },
    {
      "cell_type": "code",
      "execution_count": null,
      "metadata": {
        "collapsed": false
      },
      "outputs": [],
      "source": [
        "# Author: Jean-Baptiste Schiratti <jean.baptiste.schiratti@gmail.com>\n#         Alexandre Gramfort <alexandre.gramfort@inria.fr>\n# License: BSD 3 clause\n\nfrom scipy.signal import medfilt\n\nimport mne\nfrom mne.datasets import sample\n\nfrom sklearn.linear_model import LogisticRegression\nfrom sklearn.model_selection import (train_test_split, StratifiedKFold)\nfrom sklearn.pipeline import Pipeline\nfrom sklearn.preprocessing import StandardScaler\n\nfrom mne_features.feature_extraction import FeatureExtractor\n\nprint(__doc__)"
      ]
    },
    {
      "cell_type": "markdown",
      "metadata": {},
      "source": [
        "Let us import the data using MNE-Python and epoch it:\n\n"
      ]
    },
    {
      "cell_type": "code",
      "execution_count": null,
      "metadata": {
        "collapsed": false
      },
      "outputs": [],
      "source": [
        "data_path = sample.data_path()\nraw_fname = data_path + '/MEG/sample/sample_audvis_filt-0-40_raw.fif'\nevent_fname = data_path + '/MEG/sample/sample_audvis_filt-0-40_raw-eve.fif'\ntmin, tmax = -0.2, 0.5\nevent_id = dict(aud_l=1, vis_l=3)\n\n# Setup for reading the raw data\nraw = mne.io.read_raw_fif(raw_fname, preload=True)\nraw.filter(.5, None, fir_design='firwin')\nevents = mne.read_events(event_fname)\npicks = mne.pick_types(raw.info, meg=False, eeg=True)\n\n# Read epochs\nepochs = mne.Epochs(raw, events, event_id, tmin, tmax, picks=picks, proj=True,\n                    baseline=None, preload=True)\nlabels = epochs.events[:, -1]\n\n# get MEG and EEG data\ndata = epochs.get_data()"
      ]
    },
    {
      "cell_type": "markdown",
      "metadata": {},
      "source": [
        "## Define a feature function called ``compute_medfilt``\n\nHere, the raw data is median filtered and the output signals are used\nas features.\n\n"
      ]
    },
    {
      "cell_type": "code",
      "execution_count": null,
      "metadata": {
        "collapsed": false
      },
      "outputs": [],
      "source": [
        "def compute_medfilt(arr):\n    \"\"\"Median filtered signal as features.\n\n    Parameters\n    ----------\n    arr : ndarray, shape (n_channels, n_times)\n\n    Returns\n    -------\n    output : (n_channels * n_times,)\n    \"\"\"\n    return medfilt(arr, kernel_size=(1, 5)).ravel()"
      ]
    },
    {
      "cell_type": "markdown",
      "metadata": {},
      "source": [
        "## Prepare for the classification task\n\nIn addition to the new feature function, we also propose to extract the\nmean of the data:\n\n"
      ]
    },
    {
      "cell_type": "code",
      "execution_count": null,
      "metadata": {
        "collapsed": false
      },
      "outputs": [],
      "source": [
        "selected_funcs = [('medfilt', compute_medfilt), 'mean']\n\npipe = Pipeline([('fe', FeatureExtractor(sfreq=raw.info['sfreq'],\n                                         selected_funcs=selected_funcs)),\n                 ('scaler', StandardScaler()),\n                 ('clf', LogisticRegression(random_state=42, solver='lbfgs'))])\nskf = StratifiedKFold(n_splits=3, shuffle=True, random_state=42)\ny = labels"
      ]
    },
    {
      "cell_type": "markdown",
      "metadata": {},
      "source": [
        "Print the accuracy score on a test dataset.\n\n"
      ]
    },
    {
      "cell_type": "code",
      "execution_count": null,
      "metadata": {
        "collapsed": false
      },
      "outputs": [],
      "source": [
        "X_train, X_test, y_train, y_test = train_test_split(data, y, test_size=0.2)\naccuracy = pipe.fit(X_train, y_train).score(X_test, y_test)\nprint('Accuracy score = %1.3f' % accuracy)"
      ]
    }
  ],
  "metadata": {
    "kernelspec": {
      "display_name": "Python 3",
      "language": "python",
      "name": "python3"
    },
    "language_info": {
      "codemirror_mode": {
        "name": "ipython",
        "version": 3
      },
      "file_extension": ".py",
      "mimetype": "text/x-python",
      "name": "python",
      "nbconvert_exporter": "python",
      "pygments_lexer": "ipython3",
      "version": "3.8.6"
    }
  },
  "nbformat": 4,
  "nbformat_minor": 0
}