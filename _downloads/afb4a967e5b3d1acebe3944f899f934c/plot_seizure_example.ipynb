{
  "cells": [
    {
      "cell_type": "code",
      "execution_count": null,
      "metadata": {
        "collapsed": false
      },
      "outputs": [],
      "source": [
        "%matplotlib inline"
      ]
    },
    {
      "cell_type": "markdown",
      "metadata": {},
      "source": [
        "\n# Seizure detection example with MNE-Features.\n\nThe example is aimed at showing how MNE-Features can be used to design an\nefficient seizure detection algorithm. To this end, the open Bonn iEEG dataset\nis used. The dataset which is used in this example consists in 300 iEEG samples\n(200 are seizure-free segments and 100 correspond to ictal activity). The data\nwas recorded at 173.61Hz on a single channel.\n\nSome of the features used in this example were used in:\n\nJean-Baptiste SCHIRATTI, Jean-Eudes LE DOUGET, Michel LE VAN QUYEN,\nSlim ESSID, Alexandre GRAMFORT,\n\"An ensemble learning approach to detect epileptic seizures from long\nintracranial EEG recordings\"\nProc. IEEE ICASSP Conf. 2018\n\n<div class=\"alert alert-info\"><h4>Note</h4><p>This example is for illustration purposes, as other methods\n    may lead to better performance on such a dataset (classification of\n    \"seizure\" vs. \"non-seizure\" iEEG segments). For further information, see\n    (Andrzejak et al., 2001) and http://epileptologie-bonn.de.</p></div>\n"
      ]
    },
    {
      "cell_type": "code",
      "execution_count": null,
      "metadata": {
        "collapsed": false
      },
      "outputs": [],
      "source": [
        "# Author: Jean-Baptiste Schiratti <jean.baptiste.schiratti@gmail.com>\n#         Alexandre Gramfort <alexandre.gramfort@inria.fr>\n# License: BSD 3 clause\n\nimport os\nimport os.path as op\n\nfrom download import download\n\nimport numpy as np\nimport pandas as pd\n\nfrom sklearn.ensemble import RandomForestClassifier\nfrom sklearn.model_selection import StratifiedKFold, cross_val_score\nfrom sklearn.pipeline import Pipeline\n\nfrom mne_features.feature_extraction import FeatureExtractor\n\nprint(__doc__)"
      ]
    },
    {
      "cell_type": "markdown",
      "metadata": {},
      "source": [
        "Let us download the iEEG data from the Bonn dataset:\n\n"
      ]
    },
    {
      "cell_type": "code",
      "execution_count": null,
      "metadata": {
        "collapsed": false
      },
      "outputs": [],
      "source": [
        "def download_bonn_ieeg(path, verbose=False):\n    base_url = 'http://epileptologie-bonn.de/cms/upload/workgroup/lehnertz/'\n    urls = [('setC', 'N.zip'), ('setD', 'F.zip'), ('setE', 'S.zip')]\n    paths = list()\n    for set_name, url_suffix in urls:\n        _path = download(op.join(base_url, url_suffix),\n                         op.join(path, set_name), kind='zip', replace=False,\n                         verbose=verbose)\n        paths.append(_path)\n    return paths\n\n\n# Download the data to ``./bonn_data``:\npaths = download_bonn_ieeg('./bonn_data')\n\n# Read the data from ``.txt`` files. Only the iEEG epochs in\n# ``./bonn_data/setE`` correspond to ictal\n# activity.\ndata_segments = list()\nlabels = list()\nsfreq = 173.61\nfor path in paths:\n    fnames = [s for s in os.listdir(path) if s.lower().endswith('.txt')]\n    for fname in fnames:\n        _data = pd.read_csv(op.join(path, fname), sep='\\n', header=None)\n        data_segments.append(_data.values.T[None, ...])\n    if 'setE' in path:\n        labels.append(np.ones((len(fnames),)))\n    else:\n        labels.append(np.zeros((len(fnames),)))\ndata = np.concatenate(data_segments)\ny = np.concatenate(labels, axis=0)\n\n# Shape of extracted data:\nprint(data.shape)"
      ]
    },
    {
      "cell_type": "markdown",
      "metadata": {},
      "source": [
        "Prepare for the classification task:\n\n"
      ]
    },
    {
      "cell_type": "code",
      "execution_count": null,
      "metadata": {
        "collapsed": false
      },
      "outputs": [],
      "source": [
        "selected_funcs = ['line_length', 'kurtosis', 'ptp_amp', 'skewness']\n\npipe = Pipeline([('fe', FeatureExtractor(sfreq=sfreq,\n                                         selected_funcs=selected_funcs)),\n                 ('clf', RandomForestClassifier(n_estimators=100,\n                                                max_depth=4,\n                                                random_state=42))])\nskf = StratifiedKFold(n_splits=3, shuffle=True, random_state=42)"
      ]
    },
    {
      "cell_type": "markdown",
      "metadata": {},
      "source": [
        "Print the cross-validation accuracy score:\n\n"
      ]
    },
    {
      "cell_type": "code",
      "execution_count": null,
      "metadata": {
        "collapsed": false
      },
      "outputs": [],
      "source": [
        "scores = cross_val_score(pipe, data, y, cv=skf)\nprint('Cross-validation accuracy score = %1.3f (+/- %1.5f)' % (np.mean(scores),\n                                                               np.std(scores)))"
      ]
    }
  ],
  "metadata": {
    "kernelspec": {
      "display_name": "Python 3",
      "language": "python",
      "name": "python3"
    },
    "language_info": {
      "codemirror_mode": {
        "name": "ipython",
        "version": 3
      },
      "file_extension": ".py",
      "mimetype": "text/x-python",
      "name": "python",
      "nbconvert_exporter": "python",
      "pygments_lexer": "ipython3",
      "version": "3.8.6"
    }
  },
  "nbformat": 4,
  "nbformat_minor": 0
}