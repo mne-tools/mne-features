{
  "cells": [
    {
      "cell_type": "code",
      "execution_count": null,
      "metadata": {
        "collapsed": false
      },
      "outputs": [],
      "source": [
        "%matplotlib inline"
      ]
    },
    {
      "cell_type": "markdown",
      "metadata": {},
      "source": [
        "\n# Estimation of the slope and intercept of the Power Spectral Density\n\nThis example aims at showing how the utility function `power_spectrum` and \nthe feature function :func:`mne_features.univariate.compute_spect_slope` can \nbe used to estimate the slope and the intercept of the Power Spectral \nDensity (PSD, computed - by default - using Welch method).\n\nThe code for this example is based on the method proposed in:\n\nJean-Baptiste SCHIRATTI, Jean-Eudes LE DOUGET, Michel LE VAN QUYEN,\nSlim ESSID, Alexandre GRAMFORT,\n\"An ensemble learning approach to detect epileptic seizures from long\nintracranial EEG recordings\"\nProc. IEEE ICASSP Conf. 2018\n\n<div class=\"alert alert-info\"><h4>Note</h4><p>This example is for illustration purposes, as other methods\n    may lead to more robust/reliable estimation of the slope and intercept \n    of the PSD.</p></div>\n"
      ]
    },
    {
      "cell_type": "code",
      "execution_count": null,
      "metadata": {
        "collapsed": false
      },
      "outputs": [],
      "source": [
        "# Author: Jean-Baptiste Schiratti <jean.baptiste.schiratti@gmail.com>\n#         Alexandre Gramfort <alexandre.gramfort@inria.fr>\n# License: BSD 3 clause\n\nimport matplotlib.pyplot as plt\nimport mne\nimport numpy as np\nfrom mne.datasets import sample\n\nfrom mne_features.univariate import compute_spect_slope\nfrom mne_features.utils import power_spectrum\n\nprint(__doc__)"
      ]
    },
    {
      "cell_type": "markdown",
      "metadata": {},
      "source": [
        "Let us import the data using MNE-Python and epoch it:\n\n"
      ]
    },
    {
      "cell_type": "code",
      "execution_count": null,
      "metadata": {
        "collapsed": false
      },
      "outputs": [],
      "source": [
        "data_path = sample.data_path()\nraw_fname = data_path + '/MEG/sample/sample_audvis_filt-0-40_raw.fif'\nevent_fname = data_path + '/MEG/sample/sample_audvis_filt-0-40_raw-eve.fif'\ntmin, tmax = -0.2, 0.5\nevent_id = dict(aud_l=1, vis_l=3)\n\n# Setup for reading the raw data\nraw = mne.io.read_raw_fif(raw_fname, preload=True)\nraw.filter(.5, None, fir_design='firwin')"
      ]
    },
    {
      "cell_type": "markdown",
      "metadata": {},
      "source": [
        "Estimate the slope (and the intercept) of the PSD. We use here a single\nMEG channel during the full recording to estimate the slope and the\nintercept.\n\n"
      ]
    },
    {
      "cell_type": "code",
      "execution_count": null,
      "metadata": {
        "collapsed": false
      },
      "outputs": [],
      "source": [
        "data, _ = raw[1, :2048]\nsfreq = raw.info['sfreq']\n\n# Compute the (one-sided) PSD using Welch method. The ``mask`` variable allows\n# to select only the part of the PSD which corresponds to frequencies between\n# 0.1Hz and 40Hz (the data used in this example is already low-pass filtered\n# at 40Hz).\npsd, freqs = power_spectrum(sfreq, data)\nmask = np.logical_and(1 <= freqs, freqs <= 40)\npsd, freqs = psd[0, mask], freqs[mask]\n\n# Estimate the slope (and the intercept) of the PSD. The function\n# :func:`compute_spect_slope` assumes that the PSD of the signal is of the\n# form: ``psd[f] = b / (f ** a)``. The coefficients a and b are respectively\n# called *slope* and *intercept* of the Power Spectral Density. The values of\n# the variables ``slope`` and ``intercept`` differ from the values returned\n# by ``compute_spect_slope`` because, in the feature function, the linear\n# regression fit is done in the log10-log10 scale.\nintercept, slope, _, _ = compute_spect_slope(sfreq, data, fmin=1., fmax=40.)\nprint('The estimated slope is a = %1.2f and the estimated intercept is '\n      'b = %1.3e' % (slope, intercept))\n\n# Plot the PSD together with the ``b + a * f`` straight line (estimated decay\n# of the PSD with frequency in the log10-log10 scale).\nplt.figure()\nplt.semilogx(freqs, np.log10(psd), '-b', lw=2, label='PSD')\nplt.semilogx(freqs, intercept + slope * np.log10(freqs),\n             '-r', lw=2, label='b + a * f')\nplt.xlabel('Frequency (Hz)')\nplt.ylabel('PSD (dB)')\nplt.xlim([1, 40])\nplt.legend(loc='lower left')\nplt.show()"
      ]
    }
  ],
  "metadata": {
    "kernelspec": {
      "display_name": "Python 3",
      "language": "python",
      "name": "python3"
    },
    "language_info": {
      "codemirror_mode": {
        "name": "ipython",
        "version": 3
      },
      "file_extension": ".py",
      "mimetype": "text/x-python",
      "name": "python",
      "nbconvert_exporter": "python",
      "pygments_lexer": "ipython3",
      "version": "3.8.6"
    }
  },
  "nbformat": 4,
  "nbformat_minor": 0
}